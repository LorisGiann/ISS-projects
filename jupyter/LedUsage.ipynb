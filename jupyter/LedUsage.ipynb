{
 "cells": [
  {
   "cell_type": "markdown",
   "metadata": {
    "slideshow": {
     "slide_type": "subslide"
    }
   },
   "source": [
    "# Led usage with TCP"
   ]
  },
  {
   "cell_type": "code",
   "execution_count": 6,
   "metadata": {},
   "outputs": [
    {
     "name": "stdout",
     "output_type": "stream",
     "text": [
      "STARTING ... \n",
      "CONNECTED WITH  ('192.168.43.167', 8010)\n",
      "console  STARTS :\n",
      "on\n",
      "console  D= : on\n",
      "on\n",
      "forward  on\n"
     ]
    },
    {
     "ename": "AttributeError",
     "evalue": "'socket' object has no attribute 'sendTo'",
     "output_type": "error",
     "traceback": [
      "\u001b[0;31m---------------------------------------------------------------------------\u001b[0m",
      "\u001b[0;31mAttributeError\u001b[0m                            Traceback (most recent call last)",
      "Input \u001b[0;32mIn [6]\u001b[0m, in \u001b[0;36m<cell line: 47>\u001b[0;34m()\u001b[0m\n\u001b[1;32m     45\u001b[0m \u001b[38;5;28mprint\u001b[39m(\u001b[38;5;124m\"\u001b[39m\u001b[38;5;124mSTARTING ... \u001b[39m\u001b[38;5;124m\"\u001b[39m)\n\u001b[1;32m     46\u001b[0m connect(port)\n\u001b[0;32m---> 47\u001b[0m \u001b[43mconsole\u001b[49m\u001b[43m(\u001b[49m\u001b[43m)\u001b[49m\n",
      "Input \u001b[0;32mIn [6]\u001b[0m, in \u001b[0;36mconsole\u001b[0;34m()\u001b[0m\n\u001b[1;32m     39\u001b[0m msg \u001b[38;5;241m=\u001b[39m cmd\n\u001b[1;32m     40\u001b[0m \u001b[38;5;28mprint\u001b[39m( msg )\n\u001b[0;32m---> 41\u001b[0m \u001b[43mforward\u001b[49m\u001b[43m(\u001b[49m\u001b[43m \u001b[49m\u001b[43mmsg\u001b[49m\u001b[43m \u001b[49m\u001b[43m)\u001b[49m\n\u001b[1;32m     42\u001b[0m cmd \u001b[38;5;241m=\u001b[39m  \u001b[38;5;28mstr\u001b[39m(\u001b[38;5;28minput\u001b[39m())\n",
      "Input \u001b[0;32mIn [6]\u001b[0m, in \u001b[0;36mforward\u001b[0;34m(message)\u001b[0m\n\u001b[1;32m     30\u001b[0m byt\u001b[38;5;241m=\u001b[39mmsg\u001b[38;5;241m.\u001b[39mencode()    \u001b[38;5;66;03m#required in Python3\u001b[39;00m\n\u001b[1;32m     31\u001b[0m \u001b[38;5;66;03m#sock.send(byt)\u001b[39;00m\n\u001b[0;32m---> 32\u001b[0m \u001b[43msock\u001b[49m\u001b[38;5;241;43m.\u001b[39;49m\u001b[43msendTo\u001b[49m(byt, udpAddress)\n",
      "\u001b[0;31mAttributeError\u001b[0m: 'socket' object has no attribute 'sendTo'"
     ]
    }
   ],
   "source": [
    "##############################################################\n",
    "# TCP-Send a msg to Led on 8010\n",
    "##############################################################\n",
    "import socket\n",
    "import time\n",
    "\n",
    "hostAdress     = '192.168.43.167'\n",
    "\n",
    "port           = 8010\n",
    "ledOn          = \"on\"\n",
    "ledOff         = \"off\"\n",
    "msg            = ''\n",
    "\n",
    "sock          = socket.socket(socket.AF_INET, socket.SOCK_STREAM)\n",
    "\n",
    "def connect(port) :\n",
    "    server_address = (hostAdress, port)\n",
    "    sock.connect(server_address)    \n",
    "    print(\"CONNECTED WITH \", server_address)\n",
    "\n",
    "def terminate() :\n",
    "    sock.close()    #qak infrastr receives a msg null\n",
    "    print(\"BYE\")\n",
    "\n",
    "def forward( message ) :\n",
    "    print(\"forward \", message)\n",
    "    msg = message + \"\\n\"\n",
    "    byt=msg.encode()    #required in Python3\n",
    "    sock.send(byt)\n",
    "    \n",
    "def console() :  \n",
    "    print(\"console  STARTS :\"   )\n",
    "    cmd =  str( input() )\n",
    "    print(\"console  D= :\" , cmd  )\n",
    "    while( cmd != \"q\"  ) :\n",
    "        msg = cmd\n",
    "        print( msg )\n",
    "        forward( msg )\n",
    "        cmd =  str(input())\n",
    "     \n",
    "##################################################\n",
    "print(\"STARTING ... \")\n",
    "connect(port)\n",
    "console()"
   ]
  },
  {
   "cell_type": "code",
   "execution_count": null,
   "metadata": {},
   "outputs": [
    {
     "name": "stdout",
     "output_type": "stream",
     "text": [
      "inserisci il messaggio da mandare \n",
      "on\n",
      "inserisci il messaggio da mandare \n",
      "off\n"
     ]
    }
   ],
   "source": [
    "\n",
    "import socket\n",
    "\n",
    "\n",
    "\n",
    "\n",
    "serverAddressPort   = (\"192.168.43.167\", 8010)\n",
    "\n",
    "bufferSize          = 1024\n",
    "\n",
    "\n",
    "\n",
    "# Create a UDP socket at client side\n",
    "\n",
    "UDPClientSocket = socket.socket(family=socket.AF_INET, type=socket.SOCK_DGRAM)\n",
    "\n",
    "\n",
    "\n",
    "# Send to server using created UDP socket\n",
    "\n",
    "while True:\n",
    "    msgFromClient       = input(\"inserisci il messaggio da mandare \\n\")\n",
    "    bytesToSend         = str.encode(msgFromClient)\n",
    "    UDPClientSocket.sendto(bytesToSend, serverAddressPort)\n"
   ]
  },
  {
   "cell_type": "code",
   "execution_count": null,
   "metadata": {},
   "outputs": [],
   "source": []
  },
  {
   "cell_type": "code",
   "execution_count": null,
   "metadata": {},
   "outputs": [],
   "source": []
  }
 ],
 "metadata": {
  "kernelspec": {
   "display_name": "Python 3 (ipykernel)",
   "language": "python",
   "name": "python3"
  },
  "language_info": {
   "codemirror_mode": {
    "name": "ipython",
    "version": 3
   },
   "file_extension": ".py",
   "mimetype": "text/x-python",
   "name": "python",
   "nbconvert_exporter": "python",
   "pygments_lexer": "ipython3",
   "version": "3.8.10"
  }
 },
 "nbformat": 4,
 "nbformat_minor": 2
}
